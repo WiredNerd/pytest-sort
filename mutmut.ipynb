{
 "cells": [
  {
   "cell_type": "code",
   "execution_count": null,
   "metadata": {},
   "outputs": [],
   "source": [
    "# !py -m venv .venv-mut"
   ]
  },
  {
   "cell_type": "code",
   "execution_count": null,
   "metadata": {},
   "outputs": [],
   "source": [
    "!python.exe -m pip install --upgrade pip\n",
    "%pip install -r req/requirements.txt --upgrade\n",
    "%pip install -r req/pytest.txt --upgrade\n",
    "%pip install mutmut --upgrade\n",
    "%pip install --editable ."
   ]
  },
  {
   "cell_type": "code",
   "execution_count": 9,
   "metadata": {},
   "outputs": [],
   "source": [
    "!del .mutmut-cache || true\n",
    "!del .coverage || true\n"
   ]
  },
  {
   "cell_type": "markdown",
   "metadata": {},
   "source": [
    "```\n",
    "rm -r src_mut\n",
    "cp -r src src_mut\n",
    "mv src_mut/pytest_sort src_mut/pytest_sort_mut\n",
    "sed -i 's/pytest_sort/pytest_sort_mut/g' src_mut/pytest_sort_mut/*.py\n",
    "\n",
    "rm -r test_mut\n",
    "cp -r test test_mut\n",
    "sed -i 's/from test/from test_mut/g' test_mut/*.py\n",
    "sed -i 's/import test/import test_mut/g' test_mut/*.py\n",
    "sed -i 's/pytest_sort/pytest_sort_mut/g' test_mut/*.py\n",
    "\n",
    "source .venv-mut/scripts/activate\n",
    "\n",
    "rm .coverage\n",
    "pytest test_mut -p no:mutmut --cov=src_mut --sort-mode=fastest --sort-bucket=session --cov-context=test\n",
    "\n",
    "rm .mutmut-cache\n",
    "time py -X utf-8 -m mutmut run --paths-to-mutate src_mut --runner \"pytest test_mut -x --assert=plain -p no:mutmut --sort-mode=fastest --sort-bucket=function\" --rerun-all\n",
    "\n",
    "rm .mutmut-cache\n",
    "time py -X utf-8 -m mutmut run --paths-to-mutate src_mut --runner \"pytest test_mut -x --assert=plain -p no:mutmut --sort-mode=fastest --sort-bucket=function --sort-bucket-mode=diffcov\" --rerun-all\n",
    "\n",
    "py -X utf8 -m mutmut html\n",
    "\n",
    "```"
   ]
  },
  {
   "cell_type": "code",
   "execution_count": null,
   "metadata": {},
   "outputs": [],
   "source": [
    "# !py -X utf8 -m mutmut html"
   ]
  },
  {
   "cell_type": "code",
   "execution_count": null,
   "metadata": {},
   "outputs": [],
   "source": [
    "# rm .mutmut-cache || true && pytest && time py -X utf8 -m mutmut run || true && rm -r src/pytest_sort/__pycache__\n",
    "# $PYTHONUTF8\n",
    "# $PYTHONIOENCODING\n",
    "# 275 - 3m36.990s - fastest\n",
    "# 288 - 3m14.693s - fastest read file once\n",
    "# 288 - 3m31.312s - ordered"
   ]
  }
 ],
 "metadata": {
  "kernelspec": {
   "display_name": ".venv-mut",
   "language": "python",
   "name": "python3"
  },
  "language_info": {
   "codemirror_mode": {
    "name": "ipython",
    "version": 3
   },
   "file_extension": ".py",
   "mimetype": "text/x-python",
   "name": "python",
   "nbconvert_exporter": "python",
   "pygments_lexer": "ipython3",
   "version": "3.11.5"
  },
  "orig_nbformat": 4
 },
 "nbformat": 4,
 "nbformat_minor": 2
}

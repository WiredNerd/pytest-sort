{
 "cells": [
  {
   "cell_type": "code",
   "execution_count": null,
   "metadata": {},
   "outputs": [],
   "source": [
    "#!py -m venv .venv-mut"
   ]
  },
  {
   "cell_type": "code",
   "execution_count": null,
   "metadata": {},
   "outputs": [],
   "source": [
    "!python.exe -m pip install --upgrade pip\n",
    "%pip install -r req/requirements.txt --upgrade\n",
    "%pip install mutmut pytest pytest-cov --upgrade"
   ]
  },
  {
   "cell_type": "code",
   "execution_count": null,
   "metadata": {},
   "outputs": [],
   "source": [
    "!rm .mutmut-cache"
   ]
  },
  {
   "cell_type": "code",
   "execution_count": 7,
   "metadata": {},
   "outputs": [
    {
     "name": "stderr",
     "output_type": "stream",
     "text": [
      "A required privilege is not held by the client.\n"
     ]
    }
   ],
   "source": [
    "!py -X utf-8 -m mutmut run --runner \"pytest -x --assert=plain -p no:pytest_sort -p no:mutmut\" --no-progress\n",
    "!rm -r src/pytest_sort/__pycache__\n",
    "!py -m mutmut html"
   ]
  }
 ],
 "metadata": {
  "kernelspec": {
   "display_name": ".venv-mut",
   "language": "python",
   "name": "python3"
  },
  "language_info": {
   "codemirror_mode": {
    "name": "ipython",
    "version": 3
   },
   "file_extension": ".py",
   "mimetype": "text/x-python",
   "name": "python",
   "nbconvert_exporter": "python",
   "pygments_lexer": "ipython3",
   "version": "3.10.9"
  },
  "orig_nbformat": 4
 },
 "nbformat": 4,
 "nbformat_minor": 2
}

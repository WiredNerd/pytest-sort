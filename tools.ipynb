{
 "cells": [
  {
   "cell_type": "code",
   "execution_count": null,
   "metadata": {
    "vscode": {
     "languageId": "shellscript"
    }
   },
   "outputs": [],
   "source": [
    "!python.exe -m pip install --upgrade pip\n",
    "%pip install -r req/requirements.txt --upgrade\n",
    "%pip install -r req/tools.txt --upgrade"
   ]
  },
  {
   "cell_type": "code",
   "execution_count": null,
   "metadata": {
    "vscode": {
     "languageId": "shellscript"
    }
   },
   "outputs": [],
   "source": [
    "%pip install --editable ."
   ]
  },
  {
   "cell_type": "code",
   "execution_count": null,
   "metadata": {
    "vscode": {
     "languageId": "shellscript"
    }
   },
   "outputs": [],
   "source": [
    "!pytest --help"
   ]
  },
  {
   "cell_type": "code",
   "execution_count": null,
   "metadata": {
    "vscode": {
     "languageId": "shellscript"
    }
   },
   "outputs": [],
   "source": [
    "!pytest --collect-only"
   ]
  },
  {
   "cell_type": "code",
   "execution_count": null,
   "metadata": {
    "vscode": {
     "languageId": "shellscript"
    }
   },
   "outputs": [],
   "source": [
    "!pytest --cov=src"
   ]
  },
  {
   "cell_type": "code",
   "execution_count": null,
   "metadata": {
    "vscode": {
     "languageId": "shellscript"
    }
   },
   "outputs": [],
   "source": [
    "!isort src --check --diff"
   ]
  },
  {
   "cell_type": "code",
   "execution_count": null,
   "metadata": {
    "vscode": {
     "languageId": "shellscript"
    }
   },
   "outputs": [],
   "source": [
    "!isort test --check --diff"
   ]
  },
  {
   "cell_type": "code",
   "execution_count": null,
   "metadata": {
    "vscode": {
     "languageId": "shellscript"
    }
   },
   "outputs": [],
   "source": [
    "!black --check src --diff"
   ]
  },
  {
   "cell_type": "code",
   "execution_count": null,
   "metadata": {
    "vscode": {
     "languageId": "shellscript"
    }
   },
   "outputs": [],
   "source": [
    "!black --check test --diff"
   ]
  },
  {
   "cell_type": "markdown",
   "metadata": {},
   "source": [
    "https://beta.ruff.rs/docs/rules/\n",
    "\n",
    "`# noqa: code`"
   ]
  },
  {
   "cell_type": "code",
   "execution_count": null,
   "metadata": {
    "vscode": {
     "languageId": "shellscript"
    }
   },
   "outputs": [],
   "source": [
    "!ruff check src --show-source"
   ]
  },
  {
   "cell_type": "code",
   "execution_count": null,
   "metadata": {
    "vscode": {
     "languageId": "shellscript"
    }
   },
   "outputs": [],
   "source": [
    "!mypy --python-version 3.8"
   ]
  },
  {
   "cell_type": "code",
   "execution_count": null,
   "metadata": {
    "vscode": {
     "languageId": "shellscript"
    }
   },
   "outputs": [],
   "source": [
    "# rm .mutmut-cache || true && pytest && time py -X utf8 -m mutmut run || true && rm -r src/pytest_sort/__pycache__\n",
    "# 275 - 3m36.990s - fastest\n",
    "# 288 - 3m14.693s - fastest read file once\n",
    "# 288 - 3m31.312s - ordered"
   ]
  },
  {
   "cell_type": "code",
   "execution_count": null,
   "metadata": {
    "vscode": {
     "languageId": "shellscript"
    }
   },
   "outputs": [],
   "source": [
    "!py -X utf8 -m mutmut html"
   ]
  },
  {
   "cell_type": "code",
   "execution_count": null,
   "metadata": {
    "vscode": {
     "languageId": "shellscript"
    }
   },
   "outputs": [],
   "source": [
    "# py -m build\n",
    "# twine upload --repository pypi dist/*"
   ]
  },
  {
   "cell_type": "code",
   "execution_count": null,
   "metadata": {
    "vscode": {
     "languageId": "shellscript"
    }
   },
   "outputs": [],
   "source": []
  },
  {
   "cell_type": "markdown",
   "metadata": {},
   "source": [
    "rm -r src_mut\n",
    "\n",
    "cp -r src src_mut\n",
    "mv src_mut/pytest_sort src_mut/pytest_sort_mut\n",
    "sed -i 's/pytest_sort/pytest_sort_mut/g' src_mut/pytest_sort_mut/*.py\n",
    "\n",
    "cp -r test test_mut\n",
    "sed -i 's/from test/from test_mut/g' test_mut/*.py\n",
    "sed -i 's/import test/import test_mut/g' test_mut/*.py\n",
    "sed -i 's/pytest_sort/pytest_sort_mut/g' test_mut/*.py\n",
    "\n",
    "source .venv-mut/scripts/activate\n",
    "\n",
    "pytest test_mut -p no:mutmut --sort-mode=fastest --sort-bucket=session\n",
    "\n",
    "rm .mutmut-cache\n",
    "py -m mutmut run --paths-to-mutate src_mut --runner \"pytest test_mut -x --assert=plain -p no:mutmut --sort-mode=fastest --sort-bucket=session\" --rerun-all --no-progress"
   ]
  }
 ],
 "metadata": {
  "kernelspec": {
   "display_name": ".venv",
   "language": "python",
   "name": "python3"
  },
  "language_info": {
   "codemirror_mode": {
    "name": "ipython",
    "version": 3
   },
   "file_extension": ".py",
   "mimetype": "text/x-python",
   "name": "python",
   "nbconvert_exporter": "python",
   "pygments_lexer": "ipython3",
   "version": "3.10.9"
  },
  "orig_nbformat": 4
 },
 "nbformat": 4,
 "nbformat_minor": 2
}
